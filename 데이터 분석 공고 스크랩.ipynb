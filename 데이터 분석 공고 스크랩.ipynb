{
 "cells": [
  {
   "cell_type": "code",
   "execution_count": 1,
   "metadata": {},
   "outputs": [],
   "source": [
    "import selenium\n",
    "import pandas as pd\n",
    "import time\n",
    "\n",
    "from bs4 import BeautifulSoup\n",
    "\n",
    "from selenium import webdriver\n",
    "from selenium.webdriver.support import expected_conditions as EC\n",
    "from selenium.webdriver.support.ui import WebDriverWait\n",
    "from selenium.webdriver.common.by import By"
   ]
  },
  {
   "cell_type": "code",
   "execution_count": 2,
   "metadata": {},
   "outputs": [],
   "source": [
    "# Open Chrome\n",
    "driver = webdriver.Chrome('C:/Users/li016/chromedriver/chromedriver.exe')"
   ]
  },
  {
   "cell_type": "code",
   "execution_count": null,
   "metadata": {},
   "outputs": [],
   "source": [
    "# input keyword\n",
    "keyword = \"데이터 분석\"\n",
    "\n",
    "info_list = []\n",
    "# 신입 필터링 & 범위 설정\n",
    "for i in range(1, 25):\n",
    "    # \"원티드\" 접소 by keyword\n",
    "    url = f\"https://www.wanted.co.kr/search?query={keyword}\"\n",
    "    driver.get(url)\n",
    "    driver.implicitly_wait(5)\n",
    "    \n",
    "    # 직무명 & 회사명 get\n",
    "    job_info = driver.find_element_by_css_selector(\n",
    "      f'#__next > div.Search_className__7YET5 > div:nth-child(3) > div > div > ul > li:nth-child({i}) > div > a > div'\n",
    "    ).text\n",
    "    job_info = job_info.split('\\n')\n",
    "    job_name = job_info[0]\n",
    "    company_name = job_info[1]\n",
    "    \n",
    "    # 특정 채용 공고로 이동\n",
    "    driver.find_element_by_css_selector(f'#__next > div.Search_className__7YET5 > div:nth-child(3) > div > div > ul > li:nth-child({i}) > div > a').click()\n",
    "    driver.implicitly_wait(5)\n",
    "    \n",
    "    # 채용 공고 text 전체 get\n",
    "    table_text = driver.find_element_by_class_name('JobDescription_JobDescription__3vTNT').text\n",
    "    table_text = table_text.replace(\"\\n\", '').replace('[주요업무]', '')\n",
    "\n",
    "    # 주요업무, 자격요건, 우대사항 get\n",
    "    main_task = table_text.split(\"주요업무\")[1].split(\"자격요건\")[0]\n",
    "    qualification = table_text.split(\"주요업무\")[1].split(\"자격요건\")[1].split(\"우대사항\")[0]\n",
    "    prefer_treat = table_text.split(\"주요업무\")[1].split(\"자격요건\")[1].split(\"우대사항\")[1].split('혜택')[0]\n",
    "\n",
    "    info_list.append([company_name, job_name, main_task, qualification, prefer_treat])\n",
    "    \n",
    "result_df = pd.DataFrame(data=info_list, columns=['회사명', '직무명', '주요업무', '자격요건', '우대사항'])\n",
    "result_df.head()"
   ]
  }
 ],
 "metadata": {
  "kernelspec": {
   "display_name": "Python 3",
   "language": "python",
   "name": "python3"
  },
  "language_info": {
   "codemirror_mode": {
    "name": "ipython",
    "version": 3
   },
   "file_extension": ".py",
   "mimetype": "text/x-python",
   "name": "python",
   "nbconvert_exporter": "python",
   "pygments_lexer": "ipython3",
   "version": "3.8.3"
  }
 },
 "nbformat": 4,
 "nbformat_minor": 4
}
